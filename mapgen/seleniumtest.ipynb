{
 "cells": [
  {
   "cell_type": "code",
   "execution_count": 32,
   "id": "e1b80808",
   "metadata": {},
   "outputs": [],
   "source": [
    "import time\n",
    "import json\n",
    "import pandas as pd\n",
    "\n",
    "from selenium.common.exceptions import TimeoutException\n",
    "from selenium.webdriver.common.by import By\n",
    "from selenium.webdriver.support.ui import WebDriverWait\n",
    "\n",
    "# 1) Start Chrome (ensure chromedriver is on your PATH)\n",
    "driver = webdriver.ChromiumEdge()\n",
    "\n",
    "# 2) Load your page\n",
    "driver.get(\"http://127.0.0.1:8080/index1.html\")\n",
    "# or: driver.get(\"file:///full/path/to/NearbySearchJSON.html\")\n",
    "\n",
    "\n",
    "\n"
   ]
  },
  {
   "cell_type": "code",
   "execution_count": null,
   "id": "36e15caf",
   "metadata": {},
   "outputs": [
    {
     "data": {
      "text/plain": [
       "latitude     40.756162\n",
       "longitude   -74.018933\n",
       "Name: 0, dtype: float64"
      ]
     },
     "execution_count": 33,
     "metadata": {},
     "output_type": "execute_result"
    }
   ],
   "source": [
    "locs = pd.read_csv(\"grid.csv\")"
   ]
  },
  {
   "cell_type": "code",
   "execution_count": null,
   "id": "3d982b09",
   "metadata": {},
   "outputs": [
    {
     "name": "stdout",
     "output_type": "stream",
     "text": [
      "Attempt 1/5 failed for 40.756162,-74.018933: TimeoutException()\n",
      "Attempt 2/5 failed for 40.756162,-74.018933: TimeoutException()\n",
      "Attempt 3/5 failed for 40.756162,-74.018933: TimeoutException()\n",
      "Attempt 4/5 failed for 40.756162,-74.018933: TimeoutException()\n",
      "Attempt 5/5 failed for 40.756162,-74.018933: TimeoutException()\n",
      "  → Giving up on 40.756162,-74.018933 after 5 tries.\n",
      "Attempt 1/5 failed for 40.756162,-74.01182042807977: StaleElementReferenceException()\n",
      "Attempt 2/5 failed for 40.756162,-74.01182042807977: TimeoutException()\n",
      "Attempt 3/5 failed for 40.756162,-74.01182042807977: TimeoutException()\n",
      "Attempt 4/5 failed for 40.756162,-74.01182042807977: TimeoutException()\n",
      "Attempt 5/5 failed for 40.756162,-74.01182042807977: TimeoutException()\n",
      "  → Giving up on 40.756162,-74.01182042807977 after 5 tries.\n",
      "Attempt 1/5 failed for 40.756162,-74.00115157019943: StaleElementReferenceException()\n",
      "Attempt 2/5 failed for 40.756162,-74.00115157019943: TimeoutException()\n",
      "Attempt 3/5 failed for 40.756162,-74.00115157019943: TimeoutException()\n",
      "Attempt 4/5 failed for 40.756162,-74.00115157019943: TimeoutException()\n",
      "Attempt 5/5 failed for 40.756162,-74.00115157019943: TimeoutException()\n",
      "  → Giving up on 40.756162,-74.00115157019943 after 5 tries.\n",
      "Attempt 1/5 failed for 40.756162,-73.9940389982792: WebDriverException()\n",
      "Attempt 2/5 failed for 40.756162,-73.9940389982792: TimeoutException()\n",
      "Attempt 3/5 failed for 40.756162,-73.9940389982792: TimeoutException()\n",
      "Attempt 4/5 failed for 40.756162,-73.9940389982792: TimeoutException()\n",
      "Attempt 5/5 failed for 40.756162,-73.9940389982792: TimeoutException()\n",
      "  → Giving up on 40.756162,-73.9940389982792 after 5 tries.\n"
     ]
    }
   ],
   "source": [
    "df_list = []\n",
    "\n",
    "for idx, row in locs.iterrows():\n",
    "    latlng = f\"{row['latitude']},{row['longitude']}\"\n",
    "    max_retries = 5\n",
    "    for attempt in range(1, max_retries+1):\n",
    "        try:\n",
    "            # 1) enter coords\n",
    "            inp = driver.find_element(By.ID, \"location-input\")\n",
    "            inp.clear()\n",
    "            inp.send_keys(latlng)\n",
    "\n",
    "            # 2) click Search\n",
    "            driver.find_element(By.ID, \"search-btn\").click()\n",
    "\n",
    "            # 3) wait for JSON output (starts with “[”)\n",
    "            WebDriverWait(driver, 1).until(\n",
    "                lambda d: d.find_element(By.ID, \"results\")\n",
    "                            .text.strip()\n",
    "                            .startswith(\"[\")\n",
    "            )\n",
    "\n",
    "            # 4) grab & parse\n",
    "            results_txt = driver.find_element(By.ID, \"results\").text\n",
    "            data = json.loads(results_txt)\n",
    "            df = pd.DataFrame(data)\n",
    "            df_list.append(df)\n",
    "            # success! break out of retry loop\n",
    "            break\n",
    "\n",
    "        except (TimeoutException, Exception) as e:\n",
    "            print(f\"Attempt {attempt}/{max_retries} failed for {latlng}: {e!r}\")\n",
    "            if attempt < max_retries:\n",
    "                time.sleep(1)   # back‑off before retrying\n",
    "            else:\n",
    "                print(f\"  → Giving up on {latlng} after {max_retries} tries.\")\n",
    "    # end of retry loop\n",
    "\n",
    "# once done, concatenate all results\n",
    "all_results = pd.concat(df_list, ignore_index=True)\n",
    "all_results.to_json(\"all_results.json\",orient=\"records\")\n",
    "driver.quit()"
   ]
  },
  {
   "cell_type": "code",
   "execution_count": 37,
   "id": "f74b9d8d",
   "metadata": {},
   "outputs": [],
   "source": [
    "import pandas as pd"
   ]
  },
  {
   "cell_type": "code",
   "execution_count": 39,
   "id": "bce75b93",
   "metadata": {},
   "outputs": [],
   "source": [
    "df = pd.read_json(\"lowermanhattan.json\")"
   ]
  },
  {
   "cell_type": "code",
   "execution_count": 61,
   "id": "fe1d3ddd",
   "metadata": {},
   "outputs": [
    {
     "data": {
      "text/plain": [
       "(768, 4)"
      ]
     },
     "execution_count": 61,
     "metadata": {},
     "output_type": "execute_result"
    }
   ],
   "source": [
    "df.shape"
   ]
  },
  {
   "cell_type": "code",
   "execution_count": 49,
   "id": "deb4142a",
   "metadata": {},
   "outputs": [],
   "source": [
    "df[['lat','lng']] = pd.json_normalize(df['loc'])"
   ]
  },
  {
   "cell_type": "code",
   "execution_count": 58,
   "id": "2d9ba019",
   "metadata": {},
   "outputs": [],
   "source": [
    "df = df.drop(columns=\"loc\")"
   ]
  },
  {
   "cell_type": "code",
   "execution_count": 57,
   "id": "5848ba22",
   "metadata": {},
   "outputs": [
    {
     "data": {
      "text/html": [
       "<div>\n",
       "<style scoped>\n",
       "    .dataframe tbody tr th:only-of-type {\n",
       "        vertical-align: middle;\n",
       "    }\n",
       "\n",
       "    .dataframe tbody tr th {\n",
       "        vertical-align: top;\n",
       "    }\n",
       "\n",
       "    .dataframe thead th {\n",
       "        text-align: right;\n",
       "    }\n",
       "</style>\n",
       "<table border=\"1\" class=\"dataframe\">\n",
       "  <thead>\n",
       "    <tr style=\"text-align: right;\">\n",
       "      <th></th>\n",
       "      <th>name</th>\n",
       "      <th>loc</th>\n",
       "      <th>status</th>\n",
       "      <th>lat</th>\n",
       "      <th>lng</th>\n",
       "    </tr>\n",
       "  </thead>\n",
       "  <tbody>\n",
       "    <tr>\n",
       "      <th>0</th>\n",
       "      <td>Bluestone Lane 55 Hudson Yards Café</td>\n",
       "      <td>{'lat': 40.7551684, 'lng': -74.0015389}</td>\n",
       "      <td>OPERATIONAL</td>\n",
       "      <td>40.755168</td>\n",
       "      <td>-74.001539</td>\n",
       "    </tr>\n",
       "    <tr>\n",
       "      <th>1</th>\n",
       "      <td>Starbucks</td>\n",
       "      <td>{'lat': 40.7547724, 'lng': -74.0019329}</td>\n",
       "      <td>OPERATIONAL</td>\n",
       "      <td>40.754772</td>\n",
       "      <td>-74.001933</td>\n",
       "    </tr>\n",
       "    <tr>\n",
       "      <th>2</th>\n",
       "      <td>Starbucks</td>\n",
       "      <td>{'lat': 40.757815, 'lng': -74.002465}</td>\n",
       "      <td>OPERATIONAL</td>\n",
       "      <td>40.757815</td>\n",
       "      <td>-74.002465</td>\n",
       "    </tr>\n",
       "    <tr>\n",
       "      <th>3</th>\n",
       "      <td>Bluestone Lane 55 Hudson Yards Café</td>\n",
       "      <td>{'lat': 40.7551684, 'lng': -74.0015389}</td>\n",
       "      <td>OPERATIONAL</td>\n",
       "      <td>40.755168</td>\n",
       "      <td>-74.001539</td>\n",
       "    </tr>\n",
       "    <tr>\n",
       "      <th>4</th>\n",
       "      <td>Starbucks</td>\n",
       "      <td>{'lat': 40.7547724, 'lng': -74.0019329}</td>\n",
       "      <td>OPERATIONAL</td>\n",
       "      <td>40.754772</td>\n",
       "      <td>-74.001933</td>\n",
       "    </tr>\n",
       "  </tbody>\n",
       "</table>\n",
       "</div>"
      ],
      "text/plain": [
       "                                  name  \\\n",
       "0  Bluestone Lane 55 Hudson Yards Café   \n",
       "1                            Starbucks   \n",
       "2                            Starbucks   \n",
       "3  Bluestone Lane 55 Hudson Yards Café   \n",
       "4                            Starbucks   \n",
       "\n",
       "                                       loc       status        lat        lng  \n",
       "0  {'lat': 40.7551684, 'lng': -74.0015389}  OPERATIONAL  40.755168 -74.001539  \n",
       "1  {'lat': 40.7547724, 'lng': -74.0019329}  OPERATIONAL  40.754772 -74.001933  \n",
       "2    {'lat': 40.757815, 'lng': -74.002465}  OPERATIONAL  40.757815 -74.002465  \n",
       "3  {'lat': 40.7551684, 'lng': -74.0015389}  OPERATIONAL  40.755168 -74.001539  \n",
       "4  {'lat': 40.7547724, 'lng': -74.0019329}  OPERATIONAL  40.754772 -74.001933  "
      ]
     },
     "execution_count": 57,
     "metadata": {},
     "output_type": "execute_result"
    }
   ],
   "source": [
    "df.head()"
   ]
  },
  {
   "cell_type": "code",
   "execution_count": 60,
   "id": "3a2c6445",
   "metadata": {},
   "outputs": [],
   "source": [
    "df.drop_duplicates(inplace=True)"
   ]
  },
  {
   "cell_type": "code",
   "execution_count": 62,
   "id": "e6ed3ac6",
   "metadata": {},
   "outputs": [],
   "source": [
    "df.to_json(\"cafes.json\",orient=\"records\")"
   ]
  }
 ],
 "metadata": {
  "kernelspec": {
   "display_name": "nicacafe",
   "language": "python",
   "name": "python3"
  },
  "language_info": {
   "codemirror_mode": {
    "name": "ipython",
    "version": 3
   },
   "file_extension": ".py",
   "mimetype": "text/x-python",
   "name": "python",
   "nbconvert_exporter": "python",
   "pygments_lexer": "ipython3",
   "version": "3.10.16"
  }
 },
 "nbformat": 4,
 "nbformat_minor": 5
}
